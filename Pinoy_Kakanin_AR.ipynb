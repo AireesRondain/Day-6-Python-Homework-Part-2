{
  "nbformat": 4,
  "nbformat_minor": 0,
  "metadata": {
    "colab": {
      "name": "Pinoy_Kakanin_AR.ipynb",
      "provenance": [],
      "collapsed_sections": [],
      "include_colab_link": true
    },
    "kernelspec": {
      "name": "python3",
      "display_name": "Python 3"
    }
  },
  "cells": [
    {
      "cell_type": "markdown",
      "metadata": {
        "id": "view-in-github",
        "colab_type": "text"
      },
      "source": [
        "<a href=\"https://colab.research.google.com/github/AireesRondain/Day-6-Python-Homework-Part-2/blob/master/Pinoy_Kakanin_AR.ipynb\" target=\"_parent\"><img src=\"https://colab.research.google.com/assets/colab-badge.svg\" alt=\"Open In Colab\"/></a>"
      ]
    },
    {
      "cell_type": "code",
      "metadata": {
        "id": "i161THBTRy83"
      },
      "source": [
        "#  Initialize dictionary and dataframes, import pandas\n",
        "\n",
        "pinoy_kakanin = {} #create an empty dictionary\n",
        "\n",
        "pinoy_kakanin['biko'] = 'It is made of coconut milk, brown sugar, and glutinous rice. It is usually topped with latik.'\n",
        "pinoy_kakanin['bibingka'] = 'It is usually eaten for breakfast, especially during the Christmas season. It is traditionally cooked in clay pots lined with leaves.'\n",
        "pinoy_kakanin['suman'] = 'It is made from glutinous rice cooked in coconut milk, often wrapped in banana leaves, coconut leaves, or buli or buri palmleav es for steaming. It is usually eaten sprinkled with sugar or laden with latik.'\n",
        "#pinoy_kakanin['palitaw'] = 'From litaw, the Tagalog word for \"float\" or \"rise\", is a small, flat, sweet rice cake made from galapong-washed, soaked, and ground malagkit'\n",
        "#pinoy_kakanin['turon'] = 'A Pinoy snack made of thinly sliced bananas (preferably saging na saba), dusted with brown sugar, rolled in a spring roll wrapper and fried.'\n",
        "#pinoy_kakanin['puto bumbong'] = 'is a type of street food also traditionally served during the Christmas season.'\n",
        "#pinoy_kakanin['sapin-sapin'] = 'colorful layers of glutinous rice and coconut dessert made from rice flour, coconut milk, sugar, water, flavoring and coloring. It is usually sprinkled with latik or toasted desiccated coconut flakes.'\n",
        "#pinoy_kakanin['puto'] = 'are Filipino steamed rice cakes, eaten as is or as an accompaniment to a number of savoury dishes (most notably, dinuguan).'\n",
        "#pinoy_kakanin['kutsinta'] = 'It is made from a mixture of tapioca or rice flour, brown sugar and lye, enhanced with yellow food coloring or annatto extract, and steamed in small ramekins.'\n",
        "#pinoy_kakanin['maja blanca'] = 'made with coconut milk, sweet corn kernels, and toasted coconut.\n"
      ],
      "execution_count": null,
      "outputs": []
    },
    {
      "cell_type": "code",
      "metadata": {
        "id": "Pf7lIkwFUEAH"
      },
      "source": [
        "#adding questions to the dictionary\n",
        "def add_item(ch):\n",
        "  word = input(\"New Kakanin Term: \")\n",
        "  meaning = input(\"Description : \")\n",
        "  pinoy_kakanin[word] = meaning\n"
      ],
      "execution_count": null,
      "outputs": []
    },
    {
      "cell_type": "code",
      "metadata": {
        "id": "wPJEm7L1t2Rr"
      },
      "source": [
        "#delete existing kakanin\n",
        "def del_item(ch):\n",
        "  word = input(\"Enter Kakanin to Delete: \")\n",
        "  if word in pinoy_kakanin:\n",
        "    del pinoy_kakanin[word]\n",
        "  else:\n",
        "    print(\"\\nSorry that kakanin does not exist!\")\n",
        "  "
      ],
      "execution_count": null,
      "outputs": []
    },
    {
      "cell_type": "code",
      "metadata": {
        "id": "vvFQZ74trF2p"
      },
      "source": [
        "#modify existing word\n",
        "def update_item(ch):\n",
        "  word = input(\"Enter Kakanin to Modify: \")\n",
        "  if word in pinoy_kakanin:\n",
        "    meaning = input(\"Enter New Description: \")\n",
        "    pinoy_kakanin[word] = meaning\n",
        "    print(\"\\nUpdated: %s: %s\" % (word, pinoy_kakanin[word]))\n",
        "  else:\n",
        "    print(\"\\nSorry that kakanin does not exist!\")\n"
      ],
      "execution_count": null,
      "outputs": []
    },
    {
      "cell_type": "code",
      "metadata": {
        "id": "rqiM4biE7yft"
      },
      "source": [
        "# Dictionary Maintenance\n",
        "def dict_crud(choice):\n",
        "  crud_choice = \" \"\n",
        "  while crud_choice != 'x':\n",
        "    print(\"\\n[a] ADD new kakanin term\")\n",
        "    print(\"[d] DELETE kakanin term\")\n",
        "    print(\"[u] UPDATE kakanin\")\n",
        "    print(\"[x] EXIT to Main Menu\\n\")\n",
        "\n",
        "    crud_choice = input(\"What do you want to do?: \")\n",
        "    ch = crud_choice.lower() # convert to lowercase and shorten the var name\n",
        "    \n",
        "    if ch == 'a':\n",
        "      add_item(ch)\n",
        "    elif ch == 'd':\n",
        "      del_item(ch)\n",
        "    elif ch == 'u':\n",
        "      update_item(ch)\n",
        "    "
      ],
      "execution_count": null,
      "outputs": []
    },
    {
      "cell_type": "code",
      "metadata": {
        "id": "QInWK18gCt5V"
      },
      "source": [
        "# question and answer portion and scoring; initializes score to 0 for each new player\n",
        "def kakanin_game(score): \n",
        "  score = 0 #initialize variable\n",
        "\n",
        "  for meaning in pinoy_kakanin.values():\n",
        "    print(\"\\nQuestion: %s\" % meaning)\n",
        "    answer = input(\"Answer: \")\n",
        "    if answer in pinoy_kakanin:\n",
        "      score = score + 1\n",
        "    else:\n",
        "      score = score + 0\n",
        "  return(score)\n",
        "\n",
        "# score = 0 #initialize variable\n",
        "# game = \"y\"\n",
        "\n"
      ],
      "execution_count": null,
      "outputs": []
    },
    {
      "cell_type": "code",
      "metadata": {
        "id": "LupsCmEsIpbe"
      },
      "source": [
        "# QUESTION AND ANSWER PORTION\n",
        "def game_proper(choice, plist, slist):\n",
        "  game = \"y\"\n",
        "  while game.lower() != \"n\":\n",
        "    dsize = len(pinoy_kakanin)  #get the current size of the dictionary to make sure it is updated\n",
        "  \n",
        "    print(\"\\n<<< Let's test your Pinoy Kakanin Level>>>\")\n",
        "  \n",
        "    name = input(\"\\nWhat is your name? \")\n",
        "  \n",
        "    print(\"\\nHi \" + name.title() + \". Let's begin:\\n\")\n",
        "  \n",
        "    final_score = int(kakanin_game(score)) #converts to integer to remove trailing zero\n",
        "    print(\"\\n\",name.title() + ',' + \" you scored \",final_score,\" out of\", dsize)\n",
        "  \n",
        "    percentage = final_score/dsize * 100  #converting to percentage score\n",
        "    print(\"\\nYour grade is: %0.2f\" % percentage,\"%\") #rounds of to 2 decimal places \n",
        "  \n",
        "    if percentage >= 70: #passing grade\n",
        "      print(\"\\n>>> Congratulations, you're a Certified Pinoy Kakainin Expert <<<\")\n",
        "    else: \n",
        "      print(\"\\n>>> Sorry, kain pa more! <<<\")\n",
        "\n",
        "    plist.append(name) # append the name to plist\n",
        "    slist.append(percentage) # append the grade to  slist\n",
        "    # print(plist) - used for checking purposes\n",
        "    # print(slist) - used for checking purposes\n",
        "    game=input(\"\\n Do you want to play again? y/n: \")\n",
        "    \n",
        "    return(choice, plist, slist)\n"
      ],
      "execution_count": null,
      "outputs": []
    },
    {
      "cell_type": "code",
      "metadata": {
        "id": "ETKe4x0pR4IQ",
        "outputId": "9dcbbd62-7ef6-492e-cfe2-f274b2c787de",
        "colab": {
          "base_uri": "https://localhost:8080/",
          "height": 1000
        }
      },
      "source": [
        "# add here dictionary initialization\n",
        "\n",
        "\n",
        "# MAIN MENU - loads the dictionary first, import pandas and create empty df\n",
        "import pandas as pd\n",
        "dframe = pd.DataFrame() \n",
        "\n",
        "plist = [] # creates an empty player list\n",
        "slist = [] # creates an empty score list\n",
        "\n",
        "m_choice = \" \"\n",
        "while m_choice.lower() != 'q':\n",
        "  print(\"\\n[a] Test Your Pinoy Kakanin Level\")\n",
        "  print(\"\\n[b] Add,Delete,Update the Pinoy Kakanin Dictionary\")\n",
        "  print(\"\\n[c] Display Players and Scores\")\n",
        "  print(\"\\n[q] Quit\\n\")\n",
        "  m_choice = input(\"Enter your choice: \")\n",
        "  if m_choice == 'a':\n",
        "    game_proper(m_choice, plist, slist) # call the questions function\n",
        "    \n",
        "  elif m_choice == 'b':\n",
        "    dict_crud(m_choice) # call dictionary maintenance function\n",
        "  \n",
        "  elif m_choice == 'c':\n",
        "    dframe = pd.DataFrame({'Names':plist, 'Grade':slist}) # creates a 2-col. dataframe from the 2 lists\n",
        "    print(dframe)\n",
        "  \n",
        "  elif m_choice == 'q':\n",
        "    print(\"\\nHave a good day. Bye!\") # terminates the program\n"
      ],
      "execution_count": null,
      "outputs": [
        {
          "output_type": "stream",
          "text": [
            "\n",
            "[a] Test Your Pinoy Kakanin Level\n",
            "\n",
            "[b] Add,Delete,Update the Pinoy Kakanin Dictionary\n",
            "\n",
            "[c] Display Players and Scores\n",
            "\n",
            "[q] Quit\n",
            "\n",
            "Enter your choice: a\n",
            "\n",
            "<<< Let's test your Pinoy Kakanin Level>>>\n",
            "\n",
            "What is your name? airees\n",
            "\n",
            "Hi Airees. Let's begin:\n",
            "\n",
            "\n",
            "Question: It is made of coconut milk, brown sugar, and glutinous rice. It is usually topped with latik.\n",
            "Answer: biko\n",
            "\n",
            "Question: It is usually eaten for breakfast, especially during the Christmas season. It is traditionally cooked in clay pots lined with leaves.\n",
            "Answer: bibingka\n",
            "\n",
            "Question: It is made from glutinous rice cooked in coconut milk, often wrapped in banana leaves, coconut leaves, or buli or buri palmleav es for steaming. It is usually eaten sprinkled with sugar or laden with latik.\n",
            "Answer: suman\n",
            "\n",
            " Airees, you scored  3  out of 3\n",
            "\n",
            "Your grade is: 100.00 %\n",
            "\n",
            ">>> Congratulations, you're a Certified Pinoy Kakainin Expert <<<\n",
            "\n",
            " Do you want to play again? y/n: n\n",
            "\n",
            "[a] Test Your Pinoy Kakanin Level\n",
            "\n",
            "[b] Add,Delete,Update the Pinoy Kakanin Dictionary\n",
            "\n",
            "[c] Display Players and Scores\n",
            "\n",
            "[q] Quit\n",
            "\n",
            "Enter your choice: a\n",
            "\n",
            "<<< Let's test your Pinoy Kakanin Level>>>\n",
            "\n",
            "What is your name? vic\n",
            "\n",
            "Hi Vic. Let's begin:\n",
            "\n",
            "\n",
            "Question: It is made of coconut milk, brown sugar, and glutinous rice. It is usually topped with latik.\n",
            "Answer: biko\n",
            "\n",
            "Question: It is usually eaten for breakfast, especially during the Christmas season. It is traditionally cooked in clay pots lined with leaves.\n",
            "Answer: b\n",
            "\n",
            "Question: It is made from glutinous rice cooked in coconut milk, often wrapped in banana leaves, coconut leaves, or buli or buri palmleav es for steaming. It is usually eaten sprinkled with sugar or laden with latik.\n",
            "Answer: suman\n",
            "\n",
            " Vic, you scored  2  out of 3\n",
            "\n",
            "Your grade is: 66.67 %\n",
            "\n",
            ">>> Sorry, kain pa more! <<<\n",
            "\n",
            " Do you want to play again? y/n: n\n",
            "\n",
            "[a] Test Your Pinoy Kakanin Level\n",
            "\n",
            "[b] Add,Delete,Update the Pinoy Kakanin Dictionary\n",
            "\n",
            "[c] Display Players and Scores\n",
            "\n",
            "[q] Quit\n",
            "\n",
            "Enter your choice: b\n",
            "\n",
            "[a] ADD new kakanin term\n",
            "[d] DELETE kakanin term\n",
            "[u] UPDATE kakanin\n",
            "[x] EXIT to Main Menu\n",
            "\n",
            "What do you want to do?: a\n",
            "New Kakanin Term: buchi\n",
            "Description : round brown sweet with monggo\n",
            "\n",
            "[a] ADD new kakanin term\n",
            "[d] DELETE kakanin term\n",
            "[u] UPDATE kakanin\n",
            "[x] EXIT to Main Menu\n",
            "\n",
            "What do you want to do?: x\n",
            "\n",
            "[a] Test Your Pinoy Kakanin Level\n",
            "\n",
            "[b] Add,Delete,Update the Pinoy Kakanin Dictionary\n",
            "\n",
            "[c] Display Players and Scores\n",
            "\n",
            "[q] Quit\n",
            "\n",
            "Enter your choice: c\n",
            "    Names       Grade\n",
            "0  airees  100.000000\n",
            "1     vic   66.666667\n",
            "\n",
            "[a] Test Your Pinoy Kakanin Level\n",
            "\n",
            "[b] Add,Delete,Update the Pinoy Kakanin Dictionary\n",
            "\n",
            "[c] Display Players and Scores\n",
            "\n",
            "[q] Quit\n",
            "\n",
            "Enter your choice: q\n",
            "\n",
            "Have a good day. Bye!\n"
          ],
          "name": "stdout"
        }
      ]
    },
    {
      "cell_type": "code",
      "metadata": {
        "id": "8diRzLW7F4Ef",
        "outputId": "66331dd6-bd5b-43bc-9983-3a710a4158ec",
        "colab": {
          "base_uri": "https://localhost:8080/",
          "height": 68
        }
      },
      "source": [
        "print(dframe)"
      ],
      "execution_count": null,
      "outputs": [
        {
          "output_type": "stream",
          "text": [
            "    Names       Grade\n",
            "0  airees  100.000000\n",
            "1     vic   66.666667\n"
          ],
          "name": "stdout"
        }
      ]
    },
    {
      "cell_type": "code",
      "metadata": {
        "id": "7xfHTHXXF57t",
        "outputId": "27481c05-0130-4662-cc52-fc1972d5b0bb",
        "colab": {
          "base_uri": "https://localhost:8080/",
          "height": 111
        }
      },
      "source": [
        "dframe"
      ],
      "execution_count": null,
      "outputs": [
        {
          "output_type": "execute_result",
          "data": {
            "text/html": [
              "<div>\n",
              "<style scoped>\n",
              "    .dataframe tbody tr th:only-of-type {\n",
              "        vertical-align: middle;\n",
              "    }\n",
              "\n",
              "    .dataframe tbody tr th {\n",
              "        vertical-align: top;\n",
              "    }\n",
              "\n",
              "    .dataframe thead th {\n",
              "        text-align: right;\n",
              "    }\n",
              "</style>\n",
              "<table border=\"1\" class=\"dataframe\">\n",
              "  <thead>\n",
              "    <tr style=\"text-align: right;\">\n",
              "      <th></th>\n",
              "      <th>Names</th>\n",
              "      <th>Grade</th>\n",
              "    </tr>\n",
              "  </thead>\n",
              "  <tbody>\n",
              "    <tr>\n",
              "      <th>0</th>\n",
              "      <td>airees</td>\n",
              "      <td>100.000000</td>\n",
              "    </tr>\n",
              "    <tr>\n",
              "      <th>1</th>\n",
              "      <td>vic</td>\n",
              "      <td>66.666667</td>\n",
              "    </tr>\n",
              "  </tbody>\n",
              "</table>\n",
              "</div>"
            ],
            "text/plain": [
              "    Names       Grade\n",
              "0  airees  100.000000\n",
              "1     vic   66.666667"
            ]
          },
          "metadata": {
            "tags": []
          },
          "execution_count": 191
        }
      ]
    },
    {
      "cell_type": "code",
      "metadata": {
        "id": "jFDbYuBNeNzh"
      },
      "source": [
        ""
      ],
      "execution_count": null,
      "outputs": []
    }
  ]
}